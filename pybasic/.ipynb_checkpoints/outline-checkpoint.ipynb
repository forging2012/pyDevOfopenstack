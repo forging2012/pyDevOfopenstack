{
 "cells": [
  {
   "cell_type": "markdown",
   "metadata": {},
   "source": [
    "### Python开发之openstack\n",
    "\n",
    "**课程内容简要**\n",
    "* Python从入门到上手\n",
    "* openstack从入门到上手\n",
    "* 实战\n",
    "  + python实战\n",
    "  + openstack实战\n",
    "\n",
    "详细内容如下：    \n",
    "参考链接：http://www.processon.com/view/link/57284354e4b0d554ee65e435\n",
    "![详细内容](../img/outline.png)\n",
    "\n",
    "\n",
    "课件内容：    \n",
    "https://github.com/youerning/pyDevOfopenstack\n"
   ]
  },
  {
   "cell_type": "markdown",
   "metadata": {},
   "source": [
    "### Python基础\n",
    "\n"
   ]
  },
  {
   "cell_type": "markdown",
   "metadata": {},
   "source": [
    "## 介绍\n",
    "### 摘要\n",
    "* Python介绍\n",
    "* Python安装使用\n",
    "\n",
    "\n",
    "\n",
    "** 介绍 **    \n",
    "　　Python（英国发音：/ˈpaɪθən/ 美国发音：/ˈpaɪθɑːn/）, 是一种面向对象、解释型计算机程序设计语言，由Guido van Rossum于1989年发明，第一个公开发行版发行于1991年。    \n",
    "　　Python是纯粹的自由软件， 源代码和解释器CPython遵循 GPL(GNU General Public License)协议[1]  。    \n",
    "　　Python语法简洁清晰，特色之一是强制用空白符(white space)作为语句缩进。\n",
    "\n",
    "　　Python的设计哲学是“优雅”、“明确”、“简单”。因此，Perl语言中“总是有多种方法来做同一件事”的理念在Python开发者中通常是难以忍受的。Python开发者的哲学是“用一种方法，最好是只有一种方法来做一件事”。在设计Python语言时，如果面临多种选择，Python开发者一般会拒绝花俏的语法，而选择明确的没有或者很少有歧义的语法。由于这种设计观念的差异，Python源代码通常被认为比Perl具备更好的可读性，并且能够支撑大规模的软件开发。这些准则被称为Python格言。在Python解释器内运行import this可以获得完整的列表。\n",
    "\n",
    "\n",
    "** 那么为什么选择python呢 ？**    \n",
    "　　无论是否作为一个IT从业者，我总会接触到计算机，而在使用计算机的时候我们总想让某项工作按照自己的意愿，按照自己的设定自动运行，为了让计算机执行一些人为的操作，我们需要编程语言。    \n",
    "　　如果你接触过编程，你当然知道鼎鼎有名的C/C++或者Java，它们的效率自然不必多言，但是你会发现，仅是完成一件很简单的事，你可能需要编写，编译，测试，再次编译，一长串的步骤，那么你会想，有没有即写即用的编程语言呢？当然有，这门编程语言就是python。\n",
    "选择python有很多原因，但是大致如一。\n",
    "> 人生苦短，我用Python\n",
    "    \n",
    "\n",
    "** 安装 **    \n",
    "下载地址：http://www.python.org/download/    \n",
    "sublime3下载地址：http://www.sublimetext.com/3    \n",
    "\n",
    "环境变量：/d/python/Scripts;/d/python    \n",
    "\n",
    "\n",
    "简单命令：    \n",
    "　　查看版本：python -V    \n",
    "　　退出：Ctrl + D 或者 exit()\n",
    "\n",
    "\n",
    "\n",
    "** 学习资源 **    \n",
    "Python官网文档:https://docs.python.org/2.7/    \n",
    "中文教程：    \n",
    "[廖雪峰Python教程](http://www.liaoxuefeng.com/wiki/001374738125095c955c1e6d8bb493182103fac9270762a000)    \n",
    "[草鸟教程Python](http://www.runoob.com/python/python-tutorial.html)    \n",
    "推荐书籍:    \n",
    "[Python基础教程（第2版 修订版）](http://item.jd.com/11461683.html)\n",
    "\n",
    "\n",
    "\n",
    "\n",
    "** 各版本Hello World**    \n",
    "C语言\n",
    "```C\n",
    "#include <stdio.h>\n",
    "int main()\n",
    "{\n",
    "    printf(\"Hello World!/n\");\n",
    "    return 0;\n",
    "}\n",
    "```    \n",
    "\n",
    "C++\n",
    "```C++\n",
    "#include <iostream.h>\n",
    "int main()\n",
    "{\n",
    "    cout<<\"Hello World!\"<<endl;\n",
    "    return 0;\n",
    "}\n",
    "```\n",
    "\n",
    "Java\n",
    "```java\n",
    "class Hello\n",
    "{\n",
    "    public static void main(String ars[])\n",
    "    {\n",
    "        System.out.print(\"Hello World!/n\");\n",
    "    }\n",
    "}\n",
    "```\n",
    "\n",
    "Python\n",
    "```python\n",
    "print \"Hello world\"\n",
    "```\n",
    "\n",
    "\n",
    "** 总结：**    \n",
    "简单介绍python    \n",
    "Windows的Python安装\n",
    "\n",
    "其他资源    \n",
    "[为 Sublime Text 3 设置 Python 的全栈开发环境](http://python.jobbole.com/81312/)\n"
   ]
  },
  {
   "cell_type": "markdown",
   "metadata": {},
   "source": [
    "## 基本数据类型\n",
    "### 摘要\n",
    "* 数值\n",
    "* 字符串\n",
    "\n",
    "** 数值类型 **    \n",
    "* 整型\n",
    "* 浮点型    \n",
    "\n",
    "** 数值操作 **\n",
    "* 基本运算符\n",
    "    +, -, * ,/\n",
    "\n",
    "** 字符串 **    \n",
    "* 表示方式\n",
    "    单引号，双引号，三引号\n",
    "* 特殊字符\n",
    "    换行，转译\n",
    "* 切片，索引\n",
    "* 组合\n",
    "\n",
    "    \n",
    "    \n",
    "** 总结 **\n",
    "介绍了两种数据类型的基本操作及表示方法。"
   ]
  },
  {
   "cell_type": "markdown",
   "metadata": {},
   "source": [
    "## 控制流\n",
    "### 摘要\n",
    "* if语句\n",
    "* for语句\n",
    "* while语句\n",
    "* break和continue\n",
    "* pass\n",
    "* 函数\n",
    "    * 定义\n",
    "    * 位置参数\n",
    "    * 关键字参数\n",
    "    * 任意参数\n",
    "    * 文档字符串\n",
    "    * 匿名函数\n",
    "    "
   ]
  },
  {
   "cell_type": "markdown",
   "metadata": {},
   "source": [
    "## 数据结构\n",
    "### 摘要\n",
    "* 列表\n",
    "* 元组与序列\n",
    "* 集合\n",
    "* 字典\n"
   ]
  },
  {
   "cell_type": "markdown",
   "metadata": {},
   "source": [
    "## 模块\n",
    "### 摘要\n",
    "* 介绍\n",
    "* 标准模块\n",
    "* dir函数\n",
    "* 包\n",
    "\n",
    "\n"
   ]
  },
  {
   "cell_type": "markdown",
   "metadata": {},
   "source": [
    "## 输入输出\n",
    "### 摘要\n",
    "* 格式化输出\n",
    "* 文件读写\n"
   ]
  },
  {
   "cell_type": "markdown",
   "metadata": {},
   "source": [
    "## 异常\n",
    "### 摘要\n",
    "* 语法错误\n",
    "* 异常\n",
    "* 异常处理\n",
    "* 自定义异常\n"
   ]
  },
  {
   "cell_type": "markdown",
   "metadata": {},
   "source": [
    "## 面向对象\n",
    "### 摘要\n",
    "* 介绍\n",
    "* 可见域与命名空间\n",
    "* 类 \n",
    "    * 定义\n",
    "    * 类对象\n",
    "    * 实例对象\n",
    "    * 方法对象\n",
    "    * 类于实例的变量\n",
    "* 继承\n",
    "* 多态\n",
    "    \n"
   ]
  },
  {
   "cell_type": "code",
   "execution_count": null,
   "metadata": {
    "collapsed": true
   },
   "outputs": [],
   "source": []
  }
 ],
 "metadata": {
  "kernelspec": {
   "display_name": "Python 2",
   "language": "python",
   "name": "python2"
  },
  "language_info": {
   "codemirror_mode": {
    "name": "ipython",
    "version": 2
   },
   "file_extension": ".py",
   "mimetype": "text/x-python",
   "name": "python",
   "nbconvert_exporter": "python",
   "pygments_lexer": "ipython2",
   "version": "2.7.11"
  }
 },
 "nbformat": 4,
 "nbformat_minor": 0
}
