{
 "cells": [
  {
   "cell_type": "markdown",
   "metadata": {},
   "source": [
    "### Python开发之openstack\n",
    "\n",
    "**课程内容简要**\n",
    "* Python从入门到上手\n",
    "* openstack从入门到上手\n",
    "* 实战\n",
    "  + python实战\n",
    "  + openstack实战\n",
    "\n",
    "详细内容如下：    \n",
    "参考链接：http://www.processon.com/view/link/57284354e4b0d554ee65e435\n",
    "![详细内容](../img/outline.png)\n",
    "\n",
    "\n",
    "课件内容：    \n",
    "https://github.com/youerning/pyDevOfopenstack\n"
   ]
  },
  {
   "cell_type": "code",
   "execution_count": null,
   "metadata": {
    "collapsed": true
   },
   "outputs": [],
   "source": []
  }
 ],
 "metadata": {
  "kernelspec": {
   "display_name": "Python 2",
   "language": "python",
   "name": "python2"
  },
  "language_info": {
   "codemirror_mode": {
    "name": "ipython",
    "version": 2
   },
   "file_extension": ".py",
   "mimetype": "text/x-python",
   "name": "python",
   "nbconvert_exporter": "python",
   "pygments_lexer": "ipython2",
   "version": "2.7.11"
  }
 },
 "nbformat": 4,
 "nbformat_minor": 0
}
